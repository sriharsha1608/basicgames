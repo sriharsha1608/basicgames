{
 "cells": [
  {
   "cell_type": "code",
   "execution_count": null,
   "metadata": {},
   "outputs": [],
   "source": [
    "#basic 4 opreations of calculator\n",
    "\n",
    "def add(a,b):\n",
    "    return a+b\n",
    "def sub(a,b):\n",
    "    return a-b\n",
    "def div(a,b):\n",
    "    return a/b\n",
    "def prod(a,b):\n",
    "    return a*b\n",
    "a=int(input(\"Enter the Number:\"))\n",
    "b=int(input(\"Enter the Number:\"))\n",
    "print(\"1. Addition\")\n",
    "print(\"2. Subraction\")\n",
    "print(\"3. Division\")\n",
    "print(\"4. multiplication\")\n",
    "i=int(input())\n",
    "if i==1:\n",
    "    print(add(a,b))\n",
    "elif i==2:\n",
    "    print(sub(a,b))\n",
    "elif i==3:\n",
    "    print(div(a,b))\n",
    "elif i==4:\n",
    "    print(prod(a,b))\n",
    "    "
   ]
  },
  {
   "cell_type": "code",
   "execution_count": null,
   "metadata": {},
   "outputs": [],
   "source": []
  }
 ],
 "metadata": {
  "kernelspec": {
   "display_name": "Python 3",
   "language": "python",
   "name": "python3"
  },
  "language_info": {
   "codemirror_mode": {
    "name": "ipython",
    "version": 3
   },
   "file_extension": ".py",
   "mimetype": "text/x-python",
   "name": "python",
   "nbconvert_exporter": "python",
   "pygments_lexer": "ipython3",
   "version": "3.8.3"
  }
 },
 "nbformat": 4,
 "nbformat_minor": 4
}
