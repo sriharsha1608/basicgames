{
 "cells": [
  {
   "cell_type": "code",
   "execution_count": 20,
   "metadata": {},
   "outputs": [
    {
     "name": "stdout",
     "output_type": "stream",
     "text": [
      "starting 45\n",
      "ending 45\n",
      "b should be greater than a\n",
      "ending 46\n",
      "Hint:g is odd\n"
     ]
    }
   ],
   "source": [
    "import random\n",
    "a=int(input(\"starting \"))\n",
    "b=int(input(\"ending \"))\n",
    "if b==a:\n",
    "    print(\"b should be greater than a\")\n",
    "    b=int(input(\"ending \"))\n",
    "    \n",
    "n=[]\n",
    "for i in range(a,b+1):\n",
    "    n.append(i)\n",
    "g=random.choice(n)\n",
    "#g\n",
    "s=100\n",
    "if g%2==0:\n",
    "    print(\"Hint: g is a even\")\n",
    "else:\n",
    "    print(\"Hint:g is odd\")\n"
   ]
  },
  {
   "cell_type": "code",
   "execution_count": 18,
   "metadata": {},
   "outputs": [
    {
     "name": "stdout",
     "output_type": "stream",
     "text": [
      "guess the number45\n",
      "wrong\n",
      "1.require hint\n",
      "2.give up\n",
      "1\n",
      "number lies between  45  and  50\n",
      "45\n",
      "wrong\n",
      "1. for another hint\n",
      "2. for give up\n",
      "1\n",
      "addition of digits  10\n",
      "45\n",
      "wrong\n",
      "1. for another hint\n",
      "2. for give up\n",
      "1\n",
      "product of digits  24\n",
      "45\n",
      "wrong\n",
      "46\n",
      "better luck next time\n"
     ]
    }
   ],
   "source": [
    "d=int(input(\"guess the number\"))\n",
    "if d==g:\n",
    "    print(\"correct\")\n",
    "    print(\"Score \",s)\n",
    "    print(\"Wow\")\n",
    "\n",
    "else:\n",
    "    print(\"wrong\")\n",
    "    print(\"1.require hint\")\n",
    "    print(\"2.give up\")\n",
    "    \n",
    "    c=int(input())\n",
    "    if c==1:\n",
    "        s=s-25\n",
    "        q=g-g//2\n",
    "        w=g+g//2\n",
    "        if q<a:\n",
    "            q=a\n",
    "        if w>b:\n",
    "            w=b\n",
    "        \n",
    "        print(\"number lies between \",q,\" and \",w)\n",
    "        d=int(input())\n",
    "        if d==g:\n",
    "            print(\"correct\")\n",
    "            print(\"score \",s)\n",
    "    \n",
    "        else:\n",
    "            print(\"wrong\")\n",
    "            print(\"1. for another hint\")\n",
    "            print(\"2. for give up\")\n",
    "            p=list(str(g))\n",
    "            add=0\n",
    "            prod=1\n",
    "            for i in range(len(p)):\n",
    "                add=add+int(p[i])\n",
    "                prod=prod*int(p[i])\n",
    "                \n",
    "            c=int(input())\n",
    "            if c==1:\n",
    "                s=s-25\n",
    "                print(\"addition of digits \",add)\n",
    "                d=int(input())\n",
    "                if d==g:\n",
    "                    print(\"correct\")\n",
    "                    print(\"Score \",s)\n",
    "                else:\n",
    "                    print(\"wrong\")\n",
    "                    print(\"1. for another hint\")\n",
    "                    print(\"2. for give up\")    \n",
    "                    c=int(input())\n",
    "                    if c==1:\n",
    "                        s=s-25\n",
    "                        print(\"product of digits \",prod)        \n",
    "\n",
    "                        d=int(input())\n",
    "                        if d==g:\n",
    "                            print(\"correct\")\n",
    "                            print(\"Score \",s)\n",
    "                        else:\n",
    "                            print(\"wrong\")\n",
    "                            print(g)\n",
    "                            print(\"better luck next time\")\n",
    "        \n",
    "\n"
   ]
  },
  {
   "cell_type": "code",
   "execution_count": null,
   "metadata": {},
   "outputs": [],
   "source": []
  }
 ],
 "metadata": {
  "kernelspec": {
   "display_name": "Python 3",
   "language": "python",
   "name": "python3"
  },
  "language_info": {
   "codemirror_mode": {
    "name": "ipython",
    "version": 3
   },
   "file_extension": ".py",
   "mimetype": "text/x-python",
   "name": "python",
   "nbconvert_exporter": "python",
   "pygments_lexer": "ipython3",
   "version": "3.8.3"
  }
 },
 "nbformat": 4,
 "nbformat_minor": 4
}
