{
 "cells": [
  {
   "cell_type": "code",
   "execution_count": 19,
   "metadata": {},
   "outputs": [],
   "source": [
    "import random\n",
    "t=['Rock','Paper','Sicssor']\n",
    "c=random.choice(t)\n",
    "upoint=0\n",
    "cpoint=0"
   ]
  },
  {
   "cell_type": "code",
   "execution_count": 20,
   "metadata": {},
   "outputs": [
    {
     "name": "stdout",
     "output_type": "stream",
     "text": [
      "Rock,Paper,Sicssor :rock\n"
     ]
    }
   ],
   "source": [
    "u=input(\"Rock,Paper,Sicssor :\" )"
   ]
  },
  {
   "cell_type": "code",
   "execution_count": 22,
   "metadata": {},
   "outputs": [
    {
     "name": "stdout",
     "output_type": "stream",
     "text": [
      "check your input it should be Rock or Paper or Sicssor \n"
     ]
    }
   ],
   "source": [
    "if u==\"Rock\" or u==\"Paper\" or u==\"Sicssor\":\n",
    "    if c==u:\n",
    "        print(\"tie\")\n",
    "        print(c,u)\n",
    "        print(\"Score\")\n",
    "        print(\"computer :\",cpoint,\"User :\",upoint)\n",
    "    elif c==\"Rock\":\n",
    "        if u==\"Paper\":\n",
    "            upoint=upoint+1\n",
    "            print(\"you won\")\n",
    "            print(c,u)\n",
    "            print(\"Score\")\n",
    "            print(\"computer :\",cpoint,\"User :\",upoint)\n",
    "        elif u==\"Sicssor\":\n",
    "            cpoint=cpoint+1\n",
    "            print(\"you lost\")\n",
    "            print(c,u)\n",
    "            print(\"Score\")\n",
    "            print(\"computer :\",cpoint,\"User :\",upoint)\n",
    "    elif c==\"Paper\":\n",
    "        if u==\"Rock\":\n",
    "            cpoint=cpoint+1\n",
    "            print(\"you lost\")\n",
    "            print(c,u)\n",
    "            print(\"Score\")\n",
    "            print(\"computer :\",cpoint,\"User :\",upoint)\n",
    "        elif u==\"Sicssor\":\n",
    "            upoint=upoint+1\n",
    "            print(\"you win\")\n",
    "            print(c,u)\n",
    "            print(\"Score\")\n",
    "            print(\"computer :\",cpoint,\"User :\",upoint)\n",
    "    elif c==\"Sicssor\":\n",
    "        if u==\"Rock\":\n",
    "            upoint=upoint+1\n",
    "            print(\"you won\")\n",
    "            print(c,u)\n",
    "            print(\"Score\")\n",
    "            print(\"computer :\",cpoint,\"User :\",upoint)\n",
    "        elif u==\"Paper\":\n",
    "            cpoint=cpoint+1\n",
    "            print(\"you lost\")\n",
    "            print(c,u)\n",
    "            print(\"score\")\n",
    "            print(\"computer :\",cpoint,\"User :\",upoint)\n",
    "else:\n",
    "    print(\"check your input it should be Rock or Paper or Sicssor \")\n"
   ]
  }
 ],
 "metadata": {
  "kernelspec": {
   "display_name": "Python 3",
   "language": "python",
   "name": "python3"
  },
  "language_info": {
   "codemirror_mode": {
    "name": "ipython",
    "version": 3
   },
   "file_extension": ".py",
   "mimetype": "text/x-python",
   "name": "python",
   "nbconvert_exporter": "python",
   "pygments_lexer": "ipython3",
   "version": "3.8.3"
  }
 },
 "nbformat": 4,
 "nbformat_minor": 4
}
